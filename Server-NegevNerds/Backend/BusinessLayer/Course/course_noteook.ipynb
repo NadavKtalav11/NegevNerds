{
 "cells": [
  {
   "cell_type": "code",
   "execution_count": 2,
   "metadata": {},
   "outputs": [],
   "source": [
    "import sys\n",
    "import os\n",
    "\n",
    "# Add the Backend directory dynamically\n",
    "current_dir = os.getcwd()  # Get the current working directory\n",
    "sys.path.insert(0, os.path.abspath(os.path.join(current_dir, '../..')))\n",
    "\n",
    "# Import the required modules\n",
    "from BusinessLayer.NegevNerds import *\n"
   ]
  },
  {
   "cell_type": "code",
   "execution_count": 3,
   "metadata": {},
   "outputs": [
    {
     "data": {
      "text/plain": [
       "0"
      ]
     },
     "execution_count": 3,
     "metadata": {},
     "output_type": "execute_result"
    }
   ],
   "source": [
    "negevnerd = NegevNerds(mkdir=\"some_directory_path\")\n",
    "courses = negevnerd.courseFacade.courses\n",
    "len(courses)"
   ]
  },
  {
   "cell_type": "code",
   "execution_count": 4,
   "metadata": {},
   "outputs": [],
   "source": [
    "course_id = \"202.1.1031\"\n",
    "course_name = \"מבני נתונים\"\n",
    "sylabus_path = \"/Users/davidvolodarsky/Desktop/Semeters/Semester_G/NegevNerds/sylbus_analyzer/data_strcutre.pdf\"\n",
    "sylabus_path1 = \"/Users/davidvolodarsky/Desktop/Semeters/Semester_G/NegevNerds/sylbus_analyzer/bsisi_netunim.pdf\"\n",
    "pdf_miki = \"/Users/davidvolodarsky/Desktop/Semeters/Semester_G/NegevNerds/sylbus_analyzer/mavo_miki.pdf\"\n",
    "user_id = \"2233\""
   ]
  },
  {
   "cell_type": "code",
   "execution_count": null,
   "metadata": {},
   "outputs": [],
   "source": [
    "user_id = negevnerd.registerWithoutAuth(\"volo@post.bgu.ac.il\", \"56575453Ab!\",\"דוד\",\"וולודרסקי\")\n",
    "user_id1 = user_id[0]\n",
    "user_id1"
   ]
  },
  {
   "cell_type": "code",
   "execution_count": 5,
   "metadata": {},
   "outputs": [
    {
     "name": "stderr",
     "output_type": "stream",
     "text": [
      "2024-12-20 16:28:03,897 - WARNING - Failed to import jpype dependencies. Fallback to subprocess.\n"
     ]
    },
    {
     "name": "stdout",
     "output_type": "stream",
     "text": [
      "Cropped PDF saved to: /Users/davidvolodarsky/Desktop/Semeters/Semester_G/NegevNerds/sylbus_analyzer/mavo_miki_cropped.pdf\n"
     ]
    },
    {
     "name": "stderr",
     "output_type": "stream",
     "text": [
      "2024-12-20 16:28:03,898 - WARNING - No module named 'jpype'\n"
     ]
    },
    {
     "name": "stdout",
     "output_type": "stream",
     "text": [
      "Error during table extraction: argument of type 'numpy.float64' is not iterable\n"
     ]
    },
    {
     "data": {
      "text/plain": [
       "\"Error: '2233'\""
      ]
     },
     "execution_count": 5,
     "metadata": {},
     "output_type": "execute_result"
    }
   ],
   "source": [
    "negevnerd.open_course(user_id1,course_id, course_name, pdf_miki)"
   ]
  },
  {
   "cell_type": "code",
   "execution_count": 14,
   "metadata": {},
   "outputs": [
    {
     "data": {
      "text/plain": [
       "0"
      ]
     },
     "execution_count": 14,
     "metadata": {},
     "output_type": "execute_result"
    }
   ],
   "source": [
    "courses = negevnerd.courseFacade.courses\n",
    "len(courses)"
   ]
  },
  {
   "cell_type": "code",
   "execution_count": 4,
   "metadata": {},
   "outputs": [],
   "source": []
  },
  {
   "cell_type": "code",
   "execution_count": 4,
   "metadata": {},
   "outputs": [
    {
     "name": "stderr",
     "output_type": "stream",
     "text": [
      "2024-12-20 11:17:40,796 - INFO - User דוד וולודרסקי registered successfully.\n"
     ]
    }
   ],
   "source": []
  },
  {
   "cell_type": "code",
   "execution_count": 6,
   "metadata": {},
   "outputs": [
    {
     "data": {
      "text/plain": [
       "'usera446ce48-1cd3-4c12-8780-fe79dbfd98e8'"
      ]
     },
     "execution_count": 6,
     "metadata": {},
     "output_type": "execute_result"
    }
   ],
   "source": []
  },
  {
   "cell_type": "code",
   "execution_count": 7,
   "metadata": {},
   "outputs": [],
   "source": [
    "course_id = \"202.2.1301\"\n",
    "year = 2020\n",
    "semester = \"Spring\"\n",
    "moed = \"A\"\n",
    "question_number = 5\n",
    "is_american = False\n",
    "question_topic = (\"AVL\",\"עץ בינארי\")\n",
    "pdf_question = \"/Users/davidvolodarsky/Downloads/חדווא.pdf\"\n",
    "pdf_answer = \"/Users/davidvolodarsky/Downloads/question_1_answer.pdf\""
   ]
  },
  {
   "cell_type": "code",
   "execution_count": 8,
   "metadata": {},
   "outputs": [
    {
     "name": "stdout",
     "output_type": "stream",
     "text": [
      "Cropped PDF saved to: /Users/davidvolodarsky/Desktop/Semeters/Semester_G/NegevNerds/sylbus_analyzer/data_strcutre_cropped.pdf\n"
     ]
    },
    {
     "data": {
      "text/plain": [
       "'Course מבני נתונים opened successfully '"
      ]
     },
     "execution_count": 8,
     "metadata": {},
     "output_type": "execute_result"
    }
   ],
   "source": [
    "pdf_path_sylabus = \"/Users/davidvolodarsky/Desktop/Semeters/Semester_G/NegevNerds/sylbus_analyzer/data_strcutre.pdf\"\n",
    "negevnerd.open_course(user_id1,course_id, \"מבני נתונים\", pdf_path_sylabus )"
   ]
  },
  {
   "cell_type": "code",
   "execution_count": 9,
   "metadata": {},
   "outputs": [
    {
     "ename": "Exception",
     "evalue": "Failed to add question with PDF: CourseFacade.add_question() takes 6 positional arguments but 8 were given",
     "output_type": "error",
     "traceback": [
      "\u001b[0;31m---------------------------------------------------------------------------\u001b[0m",
      "\u001b[0;31mTypeError\u001b[0m                                 Traceback (most recent call last)",
      "File \u001b[0;32m~/Desktop/Semeters/Semester_G/NegevNerds/NegevNerds/Backend/BusinessLayer/NegevNerds.py:303\u001b[0m, in \u001b[0;36mNegevNerds.add_question\u001b[0;34m(self, course_id, year, semester, moed, question_number, pdf_question, pdf_answer)\u001b[0m\n\u001b[1;32m    302\u001b[0m \u001b[38;5;66;03m# Add the question to the course\u001b[39;00m\n\u001b[0;32m--> 303\u001b[0m \u001b[38;5;28;43mself\u001b[39;49m\u001b[38;5;241;43m.\u001b[39;49m\u001b[43mcourseFacade\u001b[49m\u001b[38;5;241;43m.\u001b[39;49m\u001b[43madd_question\u001b[49m\u001b[43m(\u001b[49m\u001b[43mcourse_id\u001b[49m\u001b[43m,\u001b[49m\u001b[43m \u001b[49m\u001b[43myear\u001b[49m\u001b[43m,\u001b[49m\u001b[43m \u001b[49m\u001b[43msemester\u001b[49m\u001b[43m,\u001b[49m\u001b[43m \u001b[49m\u001b[43mmoed\u001b[49m\u001b[43m,\u001b[49m\u001b[43m \u001b[49m\u001b[43mquestion_number\u001b[49m\u001b[43m,\u001b[49m\u001b[43mpdf__question_path\u001b[49m\u001b[43m,\u001b[49m\u001b[43m \u001b[49m\u001b[43mpdf__answer_path\u001b[49m\u001b[43m \u001b[49m\u001b[43m)\u001b[49m\n\u001b[1;32m    305\u001b[0m \u001b[38;5;28;01mreturn\u001b[39;00m \u001b[38;5;124m\"\u001b[39m\u001b[38;5;124mQuestion added successfully.\u001b[39m\u001b[38;5;124m\"\u001b[39m\n",
      "\u001b[0;31mTypeError\u001b[0m: CourseFacade.add_question() takes 6 positional arguments but 8 were given",
      "\nDuring handling of the above exception, another exception occurred:\n",
      "\u001b[0;31mException\u001b[0m                                 Traceback (most recent call last)",
      "Cell \u001b[0;32mIn[9], line 1\u001b[0m\n\u001b[0;32m----> 1\u001b[0m \u001b[43mnegevnerd\u001b[49m\u001b[38;5;241;43m.\u001b[39;49m\u001b[43madd_question\u001b[49m\u001b[43m(\u001b[49m\u001b[43mcourse_id\u001b[49m\u001b[43m,\u001b[49m\u001b[43m \u001b[49m\u001b[43myear\u001b[49m\u001b[43m,\u001b[49m\u001b[43m \u001b[49m\u001b[43msemester\u001b[49m\u001b[43m,\u001b[49m\u001b[43m \u001b[49m\u001b[43mmoed\u001b[49m\u001b[43m,\u001b[49m\u001b[43m \u001b[49m\u001b[43mquestion_number\u001b[49m\u001b[43m,\u001b[49m\u001b[43m \u001b[49m\u001b[43mpdf_question\u001b[49m\u001b[43m,\u001b[49m\u001b[43m \u001b[49m\u001b[43mpdf_answer\u001b[49m\u001b[43m)\u001b[49m\n",
      "File \u001b[0;32m~/Desktop/Semeters/Semester_G/NegevNerds/NegevNerds/Backend/BusinessLayer/NegevNerds.py:309\u001b[0m, in \u001b[0;36mNegevNerds.add_question\u001b[0;34m(self, course_id, year, semester, moed, question_number, pdf_question, pdf_answer)\u001b[0m\n\u001b[1;32m    307\u001b[0m     \u001b[38;5;28;01mraise\u001b[39;00m e\n\u001b[1;32m    308\u001b[0m \u001b[38;5;28;01mexcept\u001b[39;00m \u001b[38;5;167;01mException\u001b[39;00m \u001b[38;5;28;01mas\u001b[39;00m e:\n\u001b[0;32m--> 309\u001b[0m     \u001b[38;5;28;01mraise\u001b[39;00m \u001b[38;5;167;01mException\u001b[39;00m(\u001b[38;5;124mf\u001b[39m\u001b[38;5;124m\"\u001b[39m\u001b[38;5;124mFailed to add question with PDF: \u001b[39m\u001b[38;5;132;01m{\u001b[39;00me\u001b[38;5;132;01m}\u001b[39;00m\u001b[38;5;124m\"\u001b[39m)\n",
      "\u001b[0;31mException\u001b[0m: Failed to add question with PDF: CourseFacade.add_question() takes 6 positional arguments but 8 were given"
     ]
    }
   ],
   "source": [
    "negevnerd.add_question(course_id, year, semester, moed, question_number,is_american, question_topic,pdf_question, pdf_answer)"
   ]
  }
 ],
 "metadata": {
  "kernelspec": {
   "display_name": "Python 3",
   "language": "python",
   "name": "python3"
  },
  "language_info": {
   "codemirror_mode": {
    "name": "ipython",
    "version": 3
   },
   "file_extension": ".py",
   "mimetype": "text/x-python",
   "name": "python",
   "nbconvert_exporter": "python",
   "pygments_lexer": "ipython3",
   "version": "3.11.8"
  }
 },
 "nbformat": 4,
 "nbformat_minor": 2
}
