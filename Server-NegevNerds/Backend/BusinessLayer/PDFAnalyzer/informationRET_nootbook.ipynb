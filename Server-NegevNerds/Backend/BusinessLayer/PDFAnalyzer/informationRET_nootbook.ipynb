{
 "cells": [
  {
   "cell_type": "code",
   "execution_count": 1,
   "metadata": {},
   "outputs": [],
   "source": [
    "import sys\n",
    "import os\n",
    "\n",
    "# Add the Backend directory dynamically\n",
    "current_dir = os.getcwd()  # Get the current working directory\n",
    "sys.path.insert(0, os.path.abspath(os.path.join(current_dir, '../..')))\n",
    "\n",
    "# Import the required modules\n",
    "from BusinessLayer.PDFAnalyzer.InformationRetrival   import *\n"
   ]
  },
  {
   "cell_type": "code",
   "execution_count": 2,
   "metadata": {},
   "outputs": [
    {
     "data": {
      "text/plain": [
       "['question_dto1', 'question_dto2']"
      ]
     },
     "execution_count": 2,
     "metadata": {},
     "output_type": "execute_result"
    }
   ],
   "source": [
    "\n",
    "\n",
    "# Example of common words for both languages\n",
    "common_words_en = {\"the\", \"and\", \"is\", \"in\", \"of\", \"to\",\"or\", \"a\", \"on\", \"yes\", \"no\", \"etc\", \"it\"}\n",
    "common_words_he = {\"של\", \"הוא\", \"היא\", \"זה\", \"את\", \"אם\",\"עם\", \"או\",\"כי\"}\n",
    "\n",
    "# Create an instance of the WordIndex\n",
    "word_index = WordIndexController(common_words_en, common_words_he)\n",
    "\n",
    "word_index.hebrew_dict\n",
    "\n",
    "# pdf1 = \"/Users/davidvolodarsky/Downloads/2019-Moed-B.pdf\"\n",
    "pdf_2= \"/Users/davidvolodarsky/Downloads/previous exams/2018 Moed B.pdf\"\n",
    "pdf_3= \"/Users/davidvolodarsky/Downloads/previous exams/2018 Moed B.pdf\"\n",
    "\n",
    "\n",
    "word_index.process_pdf(pdf_2, \"question_dto1\")\n",
    "word_index.process_pdf(pdf_2, \"question_dto2\")\n",
    "\n",
    "word_index.english_dict\n",
    "\n"
   ]
  },
  {
   "cell_type": "code",
   "execution_count": 4,
   "metadata": {},
   "outputs": [
    {
     "name": "stdout",
     "output_type": "stream",
     "text": [
      "Found 'תדפיס': ['question_dto1', 'question_dto2']\n"
     ]
    }
   ],
   "source": [
    "# Assuming `word_index.hebrew_dict` is your dictionary\n",
    "search_word = \"תדפיס\"\n",
    "\n",
    "if search_word in word_index.hebrew_dict:\n",
    "    print(f\"Found '{search_word}':\", word_index.hebrew_dict[search_word])\n",
    "else:\n",
    "    print(f\"'{search_word}' not found.\")"
   ]
  },
  {
   "cell_type": "code",
   "execution_count": 7,
   "metadata": {},
   "outputs": [
    {
     "data": {
      "text/plain": [
       "['question_dto1', 'question_dto2']"
      ]
     },
     "execution_count": 7,
     "metadata": {},
     "output_type": "execute_result"
    }
   ],
   "source": [
    "word_index.hebrew_dict[\"סיפדת\"]\n"
   ]
  },
  {
   "cell_type": "code",
   "execution_count": 4,
   "metadata": {},
   "outputs": [],
   "source": [
    "import pdfplumber\n",
    "from collections import defaultdict\n",
    "import re\n",
    "\n",
    "class WordIndex2:\n",
    "    def __init__(self, common_words_en, common_words_he):\n",
    "        self.english_dict = defaultdict(list)\n",
    "        self.hebrew_dict = defaultdict(list)\n",
    "        self.common_words_en = set(common_words_en)\n",
    "        self.common_words_he = set(common_words_he)\n",
    "\n",
    "    def update_dictionary(self, words, question_dto, dictionary, common_words):\n",
    "        for word in words:\n",
    "            # Add components of hyphenated words\n",
    "            if '-' in word:\n",
    "                components = word.split('-')\n",
    "                for component in components:\n",
    "                    if component not in common_words and question_dto not in dictionary[component]:\n",
    "                        dictionary[component].append(question_dto)\n",
    "\n",
    "            # Add the original word (hyphenated or not)\n",
    "            if word not in common_words and question_dto not in dictionary[word]:\n",
    "                dictionary[word].append(question_dto)\n",
    "\n",
    "    def extract_words(self, text):\n",
    "        if text is None:\n",
    "            return [], []\n",
    "\n",
    "        # Regex for English words, including hyphenated ones\n",
    "        english_words = re.findall(r'\\b[a-zA-Z]+(?:-[a-zA-Z]+)?\\b', text)\n",
    "\n",
    "        # Regex for Hebrew words, including hyphenated ones\n",
    "        hebrew_words = re.findall(r'\\b[א-ת]+(?:-[א-ת]+)?\\b', text)\n",
    "\n",
    "        # Additionally, include components of hyphenated words\n",
    "        split_english = []\n",
    "        for word in english_words:\n",
    "            if '-' in word:\n",
    "                split_english.extend(word.split('-'))\n",
    "            split_english.append(word)\n",
    "\n",
    "        split_hebrew = []\n",
    "        for word in hebrew_words:\n",
    "            if '-' in word:\n",
    "                split_hebrew.extend(word.split('-'))\n",
    "            split_hebrew.append(word)\n",
    "\n",
    "        return split_english, split_hebrew\n",
    "\n",
    "    def process_pdf(self, pdf_file_path, question_dto):\n",
    "        try:\n",
    "            with pdfplumber.open(pdf_file_path) as pdf:\n",
    "                text = \"\"\n",
    "                for page in pdf.pages:\n",
    "                    text += page.extract_text() + \" \"  # Combine text from all pages\n",
    "\n",
    "            # Extract English and Hebrew words\n",
    "            english_words, hebrew_words = self.extract_words(text)\n",
    "\n",
    "            # Update dictionaries\n",
    "            self.update_dictionary(english_words, question_dto, self.english_dict, self.common_words_en)\n",
    "            self.update_dictionary(hebrew_words, question_dto, self.hebrew_dict, self.common_words_he)\n",
    "\n",
    "            # Sort dictionaries\n",
    "            self.english_dict = dict(sorted(self.english_dict.items(), key=lambda x: x[0].lower()))\n",
    "            self.hebrew_dict = dict(sorted(self.hebrew_dict.items()))\n",
    "        except Exception as e:\n",
    "            print(f\"Error processing PDF: {e}\")\n",
    "\n",
    "    def search_word(self, word, language=\"en\"):\n",
    "        if language == \"en\":\n",
    "            return self.english_dict.get(word, [])\n",
    "        elif language == \"he\":\n",
    "            return self.hebrew_dict.get(word, [])\n",
    "        else:\n",
    "            raise ValueError(\"Invalid language. Use 'en' for English or 'he' for Hebrew.\")\n"
   ]
  },
  {
   "cell_type": "code",
   "execution_count": 6,
   "metadata": {},
   "outputs": [
    {
     "data": {
      "text/plain": [
       "94"
      ]
     },
     "execution_count": 6,
     "metadata": {},
     "output_type": "execute_result"
    }
   ],
   "source": [
    "wordIndex2 = WordIndex2(common_words_en, common_words_he)\n",
    "wordIndex2.process_pdf(pdf_2, \"question_dto1\")\n",
    "len(wordIndex2.english_dict)\n",
    "\n"
   ]
  },
  {
   "cell_type": "code",
   "execution_count": 9,
   "metadata": {},
   "outputs": [
    {
     "ename": "KeyError",
     "evalue": "'In-order'",
     "output_type": "error",
     "traceback": [
      "\u001b[0;31m---------------------------------------------------------------------------\u001b[0m",
      "\u001b[0;31mKeyError\u001b[0m                                  Traceback (most recent call last)",
      "Cell \u001b[0;32mIn[9], line 1\u001b[0m\n\u001b[0;32m----> 1\u001b[0m \u001b[43mwordIndex2\u001b[49m\u001b[38;5;241;43m.\u001b[39;49m\u001b[43menglish_dict\u001b[49m\u001b[43m[\u001b[49m\u001b[38;5;124;43m\"\u001b[39;49m\u001b[38;5;124;43mIn-order\u001b[39;49m\u001b[38;5;124;43m\"\u001b[39;49m\u001b[43m]\u001b[49m\n",
      "\u001b[0;31mKeyError\u001b[0m: 'In-order'"
     ]
    }
   ],
   "source": [
    "wordIndex2.english_dict[\"in-order\"]"
   ]
  }
 ],
 "metadata": {
  "kernelspec": {
   "display_name": "Python 3",
   "language": "python",
   "name": "python3"
  },
  "language_info": {
   "codemirror_mode": {
    "name": "ipython",
    "version": 3
   },
   "file_extension": ".py",
   "mimetype": "text/x-python",
   "name": "python",
   "nbconvert_exporter": "python",
   "pygments_lexer": "ipython3",
   "version": "3.11.8"
  }
 },
 "nbformat": 4,
 "nbformat_minor": 2
}
